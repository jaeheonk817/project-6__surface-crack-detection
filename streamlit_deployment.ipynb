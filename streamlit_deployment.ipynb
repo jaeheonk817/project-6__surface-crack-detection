{
 "cells": [
  {
   "cell_type": "markdown",
   "id": "49850ba5",
   "metadata": {},
   "source": [
    "## Deployment Using Streamlit\n",
    "We will use our final model to make predictions on unseen wall images. This notebook's sole purpose is to create a deployment tool for demonstration purposes."
   ]
  },
  {
   "cell_type": "markdown",
   "id": "7ddd6357",
   "metadata": {},
   "source": [
    "### Creating Deployment"
   ]
  },
  {
   "cell_type": "code",
   "execution_count": 6,
   "id": "e0ba0530",
   "metadata": {},
   "outputs": [],
   "source": [
    "# Make Imports\n",
    "import streamlit as st\n",
    "import tensorflow as tf\n",
    "from PIL import Image\n",
    "import numpy as np\n",
    "import os"
   ]
  },
  {
   "cell_type": "code",
   "execution_count": 9,
   "id": "06e3b147",
   "metadata": {},
   "outputs": [],
   "source": [
    "# Load the pre-trained model\n",
    "model = tf.keras.models.load_model('models/fifth_model.h5')\n",
    "\n",
    "# Define a function to make predictions on uploaded images\n",
    "def predict(image):\n",
    "    img = Image.open(image)\n",
    "    img = img.resize((128,128))\n",
    "    img = np.array(img)/255.0\n",
    "    img = np.expand_dims(img, axis=0)\n",
    "    prediction = model.predict(img)\n",
    "    return prediction[0][0]\n",
    "\n",
    "# Define the Streamlit app\n",
    "def app():\n",
    "    st.title(\"Wall-Crack Image Classification App by Jae\")\n",
    "    st.write(\"Upload an image and get a prediction of whether the wall has a crack or not.\")\n",
    "    file = st.file_uploader(\"Upload an image\", type=[\"jpg\", \"jpeg\", \"png\"])\n",
    "    if file:\n",
    "        image = Image.open(file)\n",
    "        st.image(image, caption='Uploaded a wall image', use_column_width=True)\n",
    "        prediction = predict(file)\n",
    "        if prediction > 0.5:\n",
    "            st.write(\"Prediction: CRACK\")\n",
    "        else:\n",
    "            st.write(\"Prediction: NO CRACK\")\n",
    "\n",
    "    if __name__ == '__main__':\n",
    "        app()\n"
   ]
  },
  {
   "cell_type": "markdown",
   "id": "01dfab44",
   "metadata": {},
   "source": [
    "### Using the Application"
   ]
  },
  {
   "cell_type": "markdown",
   "id": "05970033",
   "metadata": {},
   "source": [
    "Please open a new terminal and run the following block of code:\n",
    "\n",
    "`jupyter nbconvert --to python /Users/jaeheon/Desktop/Projects/project_surface-crack-detection/streamlit.ipynb`\n",
    "\n",
    "Then run the following:\n",
    "\n",
    "`streamlit run /Users/jaeheon/Desktop/Projects/project_surface-crack-detection/streamlit.py`\n"
   ]
  }
 ],
 "metadata": {
  "kernelspec": {
   "display_name": "Python 3 (ipykernel)",
   "language": "python",
   "name": "python3"
  },
  "language_info": {
   "codemirror_mode": {
    "name": "ipython",
    "version": 3
   },
   "file_extension": ".py",
   "mimetype": "text/x-python",
   "name": "python",
   "nbconvert_exporter": "python",
   "pygments_lexer": "ipython3",
   "version": "3.8.16"
  }
 },
 "nbformat": 4,
 "nbformat_minor": 5
}
